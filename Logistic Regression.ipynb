{
 "cells": [
  {
   "cell_type": "code",
   "execution_count": 1,
   "metadata": {},
   "outputs": [],
   "source": [
    "matplotlib inline"
   ]
  },
  {
   "cell_type": "code",
   "execution_count": 2,
   "metadata": {},
   "outputs": [],
   "source": [
    "import numpy as np\n",
    "import pandas as pd\n",
    "import matplotlib\n",
    "import matplotlib.pyplot as plt\n",
    "import scipy.stats as stats\n",
    "matplotlib.style.use('ggplot')"
   ]
  },
  {
   "cell_type": "code",
   "execution_count": 3,
   "metadata": {},
   "outputs": [
    {
     "data": {
      "text/plain": [
       "[<matplotlib.lines.Line2D at 0x1f83c4516a0>]"
      ]
     },
     "execution_count": 3,
     "metadata": {},
     "output_type": "execute_result"
    },
    {
     "data": {
      "image/png": "[encoded data removed]",
      "text/plain": [
       "<Figure size 648x648 with 1 Axes>"
      ]
     },
     "metadata": {},
     "output_type": "display_data"
    }
   ],
   "source": [
    "plt.figure(figsize=(9,9))\n",
    "\n",
    "def sigmoid(t):         # Define the sigmoid function\n",
    "    return (1/(1 + np.e**(-t)))    \n",
    "\n",
    "plot_range = np.arange(-6, 6, 0.1)       \n",
    "\n",
    "y_values = sigmoid(plot_range)\n",
    "\n",
    "# Plot curve\n",
    "plt.plot(plot_range,   # X-axis range\n",
    "         y_values,     # Predicted values\n",
    "         color=\"red\")"
   ]
  },
  {
   "cell_type": "code",
   "execution_count": 4,
   "metadata": {},
   "outputs": [],
   "source": [
    "titanic_train = pd.read_csv(\"train_data.csv\")    # Read the data\n",
    "\n",
    "char_cabin = titanic_train[\"Cabin\"].astype(str)     # Convert cabin to str\n",
    "\n",
    "new_Cabin = np.array([cabin[0] for cabin in char_cabin]) # Take first letter\n",
    "\n",
    "titanic_train[\"Cabin\"] = pd.Categorical(new_Cabin)  # Save the new cabin var\n",
    "\n",
    "# Impute median Age for NA Age values\n",
    "new_age_var = np.where(titanic_train[\"Age\"].isnull(), # Logical check\n",
    "                       28,                       # Value if check is true\n",
    "                       titanic_train[\"Age\"])     # Value if check is false\n",
    "\n",
    "titanic_train[\"Age\"] = new_age_var "
   ]
  },
  {
   "cell_type": "code",
   "execution_count": 5,
   "metadata": {},
   "outputs": [],
   "source": [
    "from sklearn import linear_model\n",
    "from sklearn import preprocessing"
   ]
  },
  {
   "cell_type": "code",
   "execution_count": 6,
   "metadata": {},
   "outputs": [
    {
     "name": "stdout",
     "output_type": "stream",
     "text": [
      "[1.00027876]\n",
      "[[-2.43010712]]\n"
     ]
    },
    {
     "name": "stderr",
     "output_type": "stream",
     "text": [
      "S:\\Anaconda3\\lib\\site-packages\\sklearn\\linear_model\\logistic.py:433: FutureWarning: Default solver will be changed to 'lbfgs' in 0.22. Specify a solver to silence this warning.\n",
      "  FutureWarning)\n"
     ]
    }
   ],
   "source": [
    "# Initialize label encoder\n",
    "label_encoder = preprocessing.LabelEncoder()\n",
    "\n",
    "# Convert Sex variable to numeric\n",
    "encoded_sex = label_encoder.fit_transform(titanic_train[\"Sex\"])\n",
    "\n",
    "# Initialize logistic regression model\n",
    "log_model = linear_model.LogisticRegression()\n",
    "\n",
    "# Train the model\n",
    "log_model.fit(X = pd.DataFrame(encoded_sex), \n",
    "              y = titanic_train[\"Survived\"])\n",
    "\n",
    "# Check trained model intercept\n",
    "print(log_model.intercept_)\n",
    "\n",
    "# Check trained model coefficients\n",
    "print(log_model.coef_)"
   ]
  },
  {
   "cell_type": "code",
   "execution_count": 7,
   "metadata": {},
   "outputs": [
    {
     "data": {
      "text/html": [
       "<div>\n",
       "<style scoped>\n",
       "    .dataframe tbody tr th:only-of-type {\n",
       "        vertical-align: middle;\n",
       "    }\n",
       "\n",
       "    .dataframe tbody tr th {\n",
       "        vertical-align: top;\n",
       "    }\n",
       "\n",
       "    .dataframe thead th {\n",
       "        text-align: right;\n",
       "    }\n",
       "</style>\n",
       "<table border=\"1\" class=\"dataframe\">\n",
       "  <thead>\n",
       "    <tr style=\"text-align: right;\">\n",
       "      <th>Survival_prob</th>\n",
       "      <th>0.19312542897248655</th>\n",
       "      <th>0.7311133823315542</th>\n",
       "    </tr>\n",
       "    <tr>\n",
       "      <th>Sex</th>\n",
       "      <th></th>\n",
       "      <th></th>\n",
       "    </tr>\n",
       "  </thead>\n",
       "  <tbody>\n",
       "    <tr>\n",
       "      <th>female</th>\n",
       "      <td>0</td>\n",
       "      <td>314</td>\n",
       "    </tr>\n",
       "    <tr>\n",
       "      <th>male</th>\n",
       "      <td>577</td>\n",
       "      <td>0</td>\n",
       "    </tr>\n",
       "  </tbody>\n",
       "</table>\n",
       "</div>"
      ],
      "text/plain": [
       "Survival_prob  0.193125  0.731113\n",
       "Sex                              \n",
       "female                0       314\n",
       "male                577         0"
      ]
     },
     "execution_count": 7,
     "metadata": {},
     "output_type": "execute_result"
    }
   ],
   "source": [
    "# Make predictions\n",
    "preds = log_model.predict_proba(X= pd.DataFrame(encoded_sex))\n",
    "preds = pd.DataFrame(preds)\n",
    "preds.columns = [\"Death_prob\", \"Survival_prob\"]\n",
    "\n",
    "# Generate table of predictions vs Sex\n",
    "pd.crosstab(titanic_train[\"Sex\"], preds.loc[:, \"Survival_prob\"])"
   ]
  },
  {
   "cell_type": "code",
   "execution_count": 8,
   "metadata": {},
   "outputs": [
    {
     "name": "stdout",
     "output_type": "stream",
     "text": [
      "[3.32716302]\n",
      "[[-0.90790164 -0.06426483 -2.43179802 -0.0265924 ]]\n"
     ]
    },
    {
     "name": "stderr",
     "output_type": "stream",
     "text": [
      "S:\\Anaconda3\\lib\\site-packages\\sklearn\\linear_model\\logistic.py:433: FutureWarning: Default solver will be changed to 'lbfgs' in 0.22. Specify a solver to silence this warning.\n",
      "  FutureWarning)\n"
     ]
    }
   ],
   "source": [
    "# Convert more variables to numeric\n",
    "encoded_class = label_encoder.fit_transform(titanic_train[\"Pclass\"])\n",
    "encoded_cabin = label_encoder.fit_transform(titanic_train[\"Cabin\"])\n",
    "\n",
    "train_features = pd.DataFrame([encoded_class,\n",
    "                              encoded_cabin,\n",
    "                              encoded_sex,\n",
    "                              titanic_train[\"Age\"]]).T\n",
    "\n",
    "# Initialize logistic regression model\n",
    "log_model = linear_model.LogisticRegression()\n",
    "\n",
    "# Train the model\n",
    "log_model.fit(X = train_features ,\n",
    "              y = titanic_train[\"Survived\"])\n",
    "\n",
    "# Check trained model intercept\n",
    "print(log_model.intercept_)\n",
    "\n",
    "# Check trained model coefficients\n",
    "print(log_model.coef_)"
   ]
  },
  {
   "cell_type": "code",
   "execution_count": 9,
   "metadata": {},
   "outputs": [
    {
     "data": {
      "text/html": [
       "<div>\n",
       "<style scoped>\n",
       "    .dataframe tbody tr th:only-of-type {\n",
       "        vertical-align: middle;\n",
       "    }\n",
       "\n",
       "    .dataframe tbody tr th {\n",
       "        vertical-align: top;\n",
       "    }\n",
       "\n",
       "    .dataframe thead th {\n",
       "        text-align: right;\n",
       "    }\n",
       "</style>\n",
       "<table border=\"1\" class=\"dataframe\">\n",
       "  <thead>\n",
       "    <tr style=\"text-align: right;\">\n",
       "      <th>Survived</th>\n",
       "      <th>0</th>\n",
       "      <th>1</th>\n",
       "    </tr>\n",
       "    <tr>\n",
       "      <th>row_0</th>\n",
       "      <th></th>\n",
       "      <th></th>\n",
       "    </tr>\n",
       "  </thead>\n",
       "  <tbody>\n",
       "    <tr>\n",
       "      <th>0</th>\n",
       "      <td>463</td>\n",
       "      <td>98</td>\n",
       "    </tr>\n",
       "    <tr>\n",
       "      <th>1</th>\n",
       "      <td>86</td>\n",
       "      <td>244</td>\n",
       "    </tr>\n",
       "  </tbody>\n",
       "</table>\n",
       "</div>"
      ],
      "text/plain": [
       "Survived    0    1\n",
       "row_0             \n",
       "0         463   98\n",
       "1          86  244"
      ]
     },
     "execution_count": 9,
     "metadata": {},
     "output_type": "execute_result"
    }
   ],
   "source": [
    "# Make predictions\n",
    "preds = log_model.predict(X= train_features)\n",
    "\n",
    "# Generate table of predictions vs actual\n",
    "pd.crosstab(preds,titanic_train[\"Survived\"])"
   ]
  },
  {
   "cell_type": "code",
   "execution_count": 10,
   "metadata": {},
   "outputs": [
    {
     "data": {
      "text/plain": [
       "0.7934904601571269"
      ]
     },
     "execution_count": 10,
     "metadata": {},
     "output_type": "execute_result"
    }
   ],
   "source": [
    "(463+244)/891"
   ]
  },
  {
   "cell_type": "code",
   "execution_count": 11,
   "metadata": {},
   "outputs": [
    {
     "data": {
      "text/plain": [
       "0.7934904601571269"
      ]
     },
     "execution_count": 11,
     "metadata": {},
     "output_type": "execute_result"
    }
   ],
   "source": [
    "log_model.score(X = train_features ,\n",
    "                y = titanic_train[\"Survived\"])"
   ]
  },
  {
   "cell_type": "code",
   "execution_count": 12,
   "metadata": {},
   "outputs": [],
   "source": [
    "from sklearn import metrics"
   ]
  },
  {
   "cell_type": "code",
   "execution_count": 13,
   "metadata": {},
   "outputs": [
    {
     "data": {
      "text/plain": [
       "array([[463,  86],\n",
       "       [ 98, 244]], dtype=int64)"
      ]
     },
     "execution_count": 13,
     "metadata": {},
     "output_type": "execute_result"
    }
   ],
   "source": [
    "# View confusion matrix\n",
    "metrics.confusion_matrix(y_true=titanic_train[\"Survived\"],  # True labels\n",
    "                         y_pred=preds) # Predicted labels"
   ]
  },
  {
   "cell_type": "code",
   "execution_count": 14,
   "metadata": {},
   "outputs": [
    {
     "name": "stdout",
     "output_type": "stream",
     "text": [
      "              precision    recall  f1-score   support\n",
      "\n",
      "           0       0.83      0.84      0.83       549\n",
      "           1       0.74      0.71      0.73       342\n",
      "\n",
      "   micro avg       0.79      0.79      0.79       891\n",
      "   macro avg       0.78      0.78      0.78       891\n",
      "weighted avg       0.79      0.79      0.79       891\n",
      "\n"
     ]
    }
   ],
   "source": [
    "# View summary of common classification metrics\n",
    "print(metrics.classification_report(y_true=titanic_train[\"Survived\"],\n",
    "                              y_pred=preds) )"
   ]
  },
  {
   "cell_type": "code",
   "execution_count": 15,
   "metadata": {},
   "outputs": [],
   "source": [
    "# Read and prepare test data\n",
    "titanic_test = pd.read_csv(\"test_data.csv\")    # Read the data\n",
    "\n",
    "char_cabin = titanic_test[\"Cabin\"].astype(str)     # Convert cabin to str\n",
    "\n",
    "new_Cabin = np.array([cabin[0] for cabin in char_cabin]) # Take first letter\n",
    "\n",
    "titanic_test[\"Cabin\"] = pd.Categorical(new_Cabin)  # Save the new cabin var\n",
    "\n",
    "# Impute median Age for NA Age values\n",
    "new_age_var = np.where(titanic_test[\"Age\"].isnull(), # Logical check\n",
    "                       28,                       # Value if check is true\n",
    "                       titanic_test[\"Age\"])      # Value if check is false\n",
    "\n",
    "titanic_test[\"Age\"] = new_age_var "
   ]
  },
  {
   "cell_type": "code",
   "execution_count": 16,
   "metadata": {},
   "outputs": [],
   "source": [
    "# Convert test variables to match model features\n",
    "encoded_sex = label_encoder.fit_transform(titanic_test[\"Sex\"])\n",
    "encoded_class = label_encoder.fit_transform(titanic_test[\"Pclass\"])\n",
    "encoded_cabin = label_encoder.fit_transform(titanic_test[\"Cabin\"])\n",
    "\n",
    "test_features = pd.DataFrame([encoded_class,\n",
    "                              encoded_cabin,\n",
    "                              encoded_sex,\n",
    "                              titanic_test[\"Age\"]]).T"
   ]
  },
  {
   "cell_type": "code",
   "execution_count": 17,
   "metadata": {},
   "outputs": [],
   "source": [
    "# Make test set predictions\n",
    "test_preds = log_model.predict(X=test_features)\n",
    "\n",
    "# Create a submission for Kaggle\n",
    "submission = pd.DataFrame({\"PassengerId\":titanic_test[\"PassengerId\"],\n",
    "                           \"Survived\":test_preds})\n",
    "\n",
    "# Save submission to CSV\n",
    "submission.to_csv(\"tutorial_logreg_submission.csv\", \n",
    "                  index=False)        # Do not save index values"
   ]
  },
  {
   "cell_type": "markdown",
   "metadata": {},
   "source": [
    "# Questions"
   ]
  },
  {
   "cell_type": "markdown",
   "metadata": {},
   "source": [
    "### 1. Describe what the sigmoid function defined in Cell number 3 in the tutorial does."
   ]
  },
  {
   "cell_type": "code",
   "execution_count": 18,
   "metadata": {},
   "outputs": [],
   "source": [
    "# Return a probability value which can then be mapped to two or more discrete classes"
   ]
  },
  {
   "cell_type": "markdown",
   "metadata": {},
   "source": [
    "### 2. When does a sigmoid function output a probability greater than 0.5?"
   ]
  },
  {
   "cell_type": "code",
   "execution_count": 19,
   "metadata": {},
   "outputs": [],
   "source": [
    "# When the variables considered produce a positive outcome"
   ]
  },
  {
   "cell_type": "markdown",
   "metadata": {},
   "source": [
    "### 3. Age is a feature in the titanic data. It has some missing values:"
   ]
  },
  {
   "cell_type": "markdown",
   "metadata": {},
   "source": [
    "a. Explain how the missing values are handled in the tutorial"
   ]
  },
  {
   "cell_type": "code",
   "execution_count": 20,
   "metadata": {},
   "outputs": [],
   "source": [
    "# The null values are replaced by the median"
   ]
  },
  {
   "cell_type": "markdown",
   "metadata": {},
   "source": [
    "b. Use a numpy function to imputing the missing values in age, to obtain the same results as in the tutorial"
   ]
  },
  {
   "cell_type": "code",
   "execution_count": 21,
   "metadata": {},
   "outputs": [],
   "source": [
    "# titanic_train[\"Age\"].fillna(titanic_train[\"Age\"].median(), inplace=True)"
   ]
  },
  {
   "cell_type": "markdown",
   "metadata": {},
   "source": [
    "### 4. Do sklearn’s machine learning functions allow for the features to be categorical?"
   ]
  },
  {
   "cell_type": "code",
   "execution_count": 22,
   "metadata": {},
   "outputs": [],
   "source": [
    "# No, as they have to be converted to numerical values"
   ]
  },
  {
   "cell_type": "markdown",
   "metadata": {},
   "source": [
    "### 5. In the tutorial, Label Encoding is used:"
   ]
  },
  {
   "cell_type": "markdown",
   "metadata": {},
   "source": [
    "a. Explain the importance of label encoding"
   ]
  },
  {
   "cell_type": "code",
   "execution_count": 23,
   "metadata": {},
   "outputs": [],
   "source": [
    "# It converts the categorical values into numerical values. "
   ]
  },
  {
   "cell_type": "markdown",
   "metadata": {},
   "source": [
    "b. Describe how it has been implemented in the tutorial"
   ]
  },
  {
   "cell_type": "code",
   "execution_count": 24,
   "metadata": {},
   "outputs": [],
   "source": [
    "# The categorical values in the Sex column i.e. Male and female are converted to 1's and 0's for use in the model"
   ]
  },
  {
   "cell_type": "markdown",
   "metadata": {},
   "source": [
    "c. Describe other ways in which encoding could have been done"
   ]
  },
  {
   "cell_type": "code",
   "execution_count": 25,
   "metadata": {},
   "outputs": [],
   "source": [
    "# Convert the data type of the column for example sex as below\n",
    "# titanic_train['Sex'] = titanic_train['Sex'].astype('category')\n",
    "\n",
    "# Use the .cat.codes function to automatically assign unique numerical values to each unique category\n",
    "# titanic_train['Sex'] = titanic_train['Sex'].cat.codes"
   ]
  },
  {
   "cell_type": "markdown",
   "metadata": {},
   "source": [
    "### 6. What is the logistic regression model learned?"
   ]
  },
  {
   "cell_type": "code",
   "execution_count": 26,
   "metadata": {},
   "outputs": [],
   "source": [
    "# y = (-2.43010712 * x) + 1.00027876"
   ]
  },
  {
   "cell_type": "markdown",
   "metadata": {},
   "source": [
    "### 7. Discuss the difference between the methods predict and predict_proba of a logistic regression model"
   ]
  },
  {
   "cell_type": "code",
   "execution_count": 27,
   "metadata": {},
   "outputs": [],
   "source": [
    "# predict gives the classes being predicted by the model \n",
    "# while predict_proba shows the probability of geting a certain class"
   ]
  },
  {
   "cell_type": "markdown",
   "metadata": {},
   "source": [
    "### 8. In regards to metrics:"
   ]
  },
  {
   "cell_type": "markdown",
   "metadata": {},
   "source": [
    "a. What is a confusion matrix?"
   ]
  },
  {
   "cell_type": "code",
   "execution_count": 28,
   "metadata": {},
   "outputs": [],
   "source": [
    "# A table that gives a measure of the performance of a model on test data whose true values are known"
   ]
  },
  {
   "cell_type": "markdown",
   "metadata": {},
   "source": [
    "b. Discuss the confusion matrix of the model learned"
   ]
  },
  {
   "cell_type": "code",
   "execution_count": 29,
   "metadata": {},
   "outputs": [],
   "source": [
    "# We can tell that there are two possible predicted classes 0 (died) and 1 (survived)\n",
    "\n",
    "#----------------------------------------------------------------------------------------\n",
    "\n",
    "#      0     1\n",
    "# 0   463    98\n",
    "# 1   86    244\n",
    "\n",
    "\n",
    "# Using the layout above\n",
    "# Total Predictions = 463 + 98 + 86 + 244 = 891\n",
    "\n",
    "# Predicted values\n",
    "# Survived = 98 + 244 = 342\n",
    "# Died = 463 + 86 = 549\n",
    "\n",
    "# Actual Values\n",
    "# Survived = 86 + 244 = 330\n",
    "# Died = 463 + 98 = 561\n",
    "\n",
    "#----------------------------------------------------------------------------------------\n",
    "\n",
    "#               Predicted 0      Predicted 1\n",
    "#  Actual 0        TN                FP\n",
    "#  Actual 1        FN                TP\n",
    "\n",
    "# Using Died = 0 and Survived = 1 and layout above\n",
    "\n",
    "# TRUE NEGATIVE (TN): Predicted 1, Actual 1 = 463\n",
    "# TRUE POSITIVES (TP): Predicted 1, Actual 1 = 244\n",
    "\n",
    "# FALSE POSITIVES (FP): Predicted 1, Actual 0 = 98\n",
    "# FALSE NEGATIVE (FN); Predicted 0, Actual 1 = 86\n",
    "\n",
    "#----------------------------------------------------------------------------------------\n",
    "\n",
    "# Accuracy (TP + TN / Total)-> 244 + 463 / 891 = 0.79349046015\n",
    "#  This describes how often the model or classifier is right\n",
    "\n",
    "# Precision (TP / Predicted 1)-> 244 / 342 = 0.71345029239\n",
    "#  This describes how often the model or classifier is right when it predicts the class 1\n",
    "\n",
    "# Recall (TP / Actual 1): 244 / 330 = 0.73939393939\n",
    "#  This describes how often does it predicts 1 when it's actually 1\n",
    "\n",
    "# Prevalence (Actual 1 / Total): 330 / 891 = 0.37037037037\n",
    "#  This describes how often does the class 1 actually occurs"
   ]
  }
 ],
 "metadata": {
  "kernelspec": {
   "display_name": "Python 3",
   "language": "python",
   "name": "python3"
  },
  "language_info": {
   "codemirror_mode": {
    "name": "ipython",
    "version": 3
   },
   "file_extension": ".py",
   "mimetype": "text/x-python",
   "name": "python",
   "nbconvert_exporter": "python",
   "pygments_lexer": "ipython3",
   "version": "3.7.1"
  }
 },
 "nbformat": 4,
 "nbformat_minor": 2
}
